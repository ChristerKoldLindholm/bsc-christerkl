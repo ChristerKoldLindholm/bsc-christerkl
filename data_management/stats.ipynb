{
 "cells": [
  {
   "cell_type": "code",
   "execution_count": 2,
   "id": "308313ec",
   "metadata": {},
   "outputs": [],
   "source": [
    "import pandas as pd \n",
    "from pathlib import Path"
   ]
  },
  {
   "cell_type": "code",
   "execution_count": null,
   "id": "3acec5ac",
   "metadata": {},
   "outputs": [],
   "source": [
    "path = Path().resolve() / \"runtimes.csv\""
   ]
  },
  {
   "cell_type": "code",
   "execution_count": 25,
   "id": "ae024014",
   "metadata": {},
   "outputs": [
    {
     "data": {
      "text/html": [
       "<div>\n",
       "<style scoped>\n",
       "    .dataframe tbody tr th:only-of-type {\n",
       "        vertical-align: middle;\n",
       "    }\n",
       "\n",
       "    .dataframe tbody tr th {\n",
       "        vertical-align: top;\n",
       "    }\n",
       "\n",
       "    .dataframe thead th {\n",
       "        text-align: right;\n",
       "    }\n",
       "</style>\n",
       "<table border=\"1\" class=\"dataframe\">\n",
       "  <thead>\n",
       "    <tr style=\"text-align: right;\">\n",
       "      <th></th>\n",
       "      <th>function</th>\n",
       "      <th>max_points</th>\n",
       "      <th>n_obs</th>\n",
       "      <th>batch_size</th>\n",
       "      <th>runtime_sec</th>\n",
       "    </tr>\n",
       "  </thead>\n",
       "  <tbody>\n",
       "    <tr>\n",
       "      <th>0</th>\n",
       "      <td>tensor_to_x</td>\n",
       "      <td>10,000</td>\n",
       "      <td>10</td>\n",
       "      <td>4</td>\n",
       "      <td>18.0</td>\n",
       "    </tr>\n",
       "    <tr>\n",
       "      <th>1</th>\n",
       "      <td>tensor_to_x</td>\n",
       "      <td>1,000</td>\n",
       "      <td>50</td>\n",
       "      <td>4</td>\n",
       "      <td>9.0</td>\n",
       "    </tr>\n",
       "    <tr>\n",
       "      <th>2</th>\n",
       "      <td>tensor_to_x</td>\n",
       "      <td>100</td>\n",
       "      <td>50</td>\n",
       "      <td>2</td>\n",
       "      <td>8.8</td>\n",
       "    </tr>\n",
       "    <tr>\n",
       "      <th>3</th>\n",
       "      <td>tensor_to_x</td>\n",
       "      <td>100</td>\n",
       "      <td>100</td>\n",
       "      <td>2</td>\n",
       "      <td>17.6</td>\n",
       "    </tr>\n",
       "    <tr>\n",
       "      <th>4</th>\n",
       "      <td>tensor_to_x</td>\n",
       "      <td>100</td>\n",
       "      <td>100</td>\n",
       "      <td>4</td>\n",
       "      <td>17.0</td>\n",
       "    </tr>\n",
       "    <tr>\n",
       "      <th>5</th>\n",
       "      <td>tensor_to_reduced_x</td>\n",
       "      <td>1000</td>\n",
       "      <td>100</td>\n",
       "      <td>2</td>\n",
       "      <td>16.0</td>\n",
       "    </tr>\n",
       "    <tr>\n",
       "      <th>6</th>\n",
       "      <td>tensor_to_reduced_x</td>\n",
       "      <td>1000</td>\n",
       "      <td>2123</td>\n",
       "      <td>2</td>\n",
       "      <td>384.0</td>\n",
       "    </tr>\n",
       "    <tr>\n",
       "      <th>7</th>\n",
       "      <td>tensor_to_reduced_x</td>\n",
       "      <td>5000</td>\n",
       "      <td>2123</td>\n",
       "      <td>2</td>\n",
       "      <td>362.0</td>\n",
       "    </tr>\n",
       "  </tbody>\n",
       "</table>\n",
       "</div>"
      ],
      "text/plain": [
       "              function max_points  n_obs  batch_size  runtime_sec\n",
       "0          tensor_to_x     10,000     10           4         18.0\n",
       "1          tensor_to_x      1,000     50           4          9.0\n",
       "2          tensor_to_x        100     50           2          8.8\n",
       "3          tensor_to_x        100    100           2         17.6\n",
       "4          tensor_to_x        100    100           4         17.0\n",
       "5  tensor_to_reduced_x       1000    100           2         16.0\n",
       "6  tensor_to_reduced_x       1000   2123           2        384.0\n",
       "7  tensor_to_reduced_x       5000   2123           2        362.0"
      ]
     },
     "execution_count": 25,
     "metadata": {},
     "output_type": "execute_result"
    }
   ],
   "source": [
    "df_runtimes = pd.read_csv(path)\n",
    "df_runtimes.head(10)"
   ]
  },
  {
   "cell_type": "code",
   "execution_count": 22,
   "id": "21d0283e",
   "metadata": {},
   "outputs": [],
   "source": [
    "df_runtimes = pd.read_csv(path)\n",
    "\n",
    "entry = pd.DataFrame({\n",
    "    \"function\": [\"tensor_to_reduced_x\"],\n",
    "    \"max_points\": [5000],\n",
    "    \"n_obs\": [2123],\n",
    "    \"batch_size\": [2],\n",
    "    \"runtime_sec\": [6*60+2]\n",
    "})\n",
    "\n",
    "df_runtimes = pd.concat([df_runtimes, entry], ignore_index=True)\n",
    "df_runtimes.to_csv(path, index=False)"
   ]
  }
 ],
 "metadata": {
  "kernelspec": {
   "display_name": "Python 3",
   "language": "python",
   "name": "python3"
  },
  "language_info": {
   "codemirror_mode": {
    "name": "ipython",
    "version": 3
   },
   "file_extension": ".py",
   "mimetype": "text/x-python",
   "name": "python",
   "nbconvert_exporter": "python",
   "pygments_lexer": "ipython3",
   "version": "3.11.1"
  }
 },
 "nbformat": 4,
 "nbformat_minor": 5
}
